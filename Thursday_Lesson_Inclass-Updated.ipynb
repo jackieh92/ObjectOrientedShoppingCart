{
 "cells": [
  {
   "cell_type": "markdown",
   "metadata": {},
   "source": [
    "# Object-Oriented-Programming (OOP)"
   ]
  },
  {
   "cell_type": "markdown",
   "metadata": {},
   "source": [
    "## Tasks Today:\n",
    "\n",
    "<b>Bonus Topics</b>\n",
    "<br>\n",
    "- Common DataStructure\n",
    "    -Linked List\n",
    "    \n",
    "\n",
    "1) <b>Creating a Class (Initializing/Declaring)</b> <br>\n",
    "2) <b>Using a Class (Instantiating)</b> <br>\n",
    " &nbsp;&nbsp;&nbsp;&nbsp; a) Creating One Instance <br>\n",
    " &nbsp;&nbsp;&nbsp;&nbsp; b) Creating Multiple Instances <br>\n",
    " &nbsp;&nbsp;&nbsp;&nbsp; c) In-Class Exercise #1 - Create a Class 'Car' and instantiate three different makes of cars <br>\n",
    "3) <b>The \\__init\\__() Method</b> <br>\n",
    " &nbsp;&nbsp;&nbsp;&nbsp; a) The 'self' Attribute <br>\n",
    "4) <b>Class Attributes</b> <br>\n",
    " &nbsp;&nbsp;&nbsp;&nbsp; a) Initializing Attributes <br>\n",
    " &nbsp;&nbsp;&nbsp;&nbsp; b) Setting an Attribute Outside of the \\__init\\__() Method <br>\n",
    " &nbsp;&nbsp;&nbsp;&nbsp; c) Setting Defaults for Attributes <br>\n",
    " &nbsp;&nbsp;&nbsp;&nbsp; d) Accessing Class Attributes <br>\n",
    " &nbsp;&nbsp;&nbsp;&nbsp; e) Changing Class Attributes <br>\n",
    " &nbsp;&nbsp;&nbsp;&nbsp; f) In-Class Exercise #2 - Add a color and wheels attribute to your 'Car' class <br>\n",
    "5) <b>Class Methods</b> <br>\n",
    " &nbsp;&nbsp;&nbsp;&nbsp; a) Creating <br>\n",
    " &nbsp;&nbsp;&nbsp;&nbsp; b) Calling <br>\n",
    " &nbsp;&nbsp;&nbsp;&nbsp; c) Modifying an Attribute's Value Through a Method <br>\n",
    " &nbsp;&nbsp;&nbsp;&nbsp; d) Incrementing an Attribute's Value Through a Method <br>\n",
    " &nbsp;&nbsp;&nbsp;&nbsp; e) In-Class Exercise #3 - Add a method that prints the cars color and wheel number, then call them <br>\n",
    "6) <b>Inheritance</b> <br>\n",
    " &nbsp;&nbsp;&nbsp;&nbsp; a) Syntax for Inheriting from a Parent Class <br>\n",
    " &nbsp;&nbsp;&nbsp;&nbsp; b) The \\__init\\__() Method for a Child Class (super()) <br>\n",
    " &nbsp;&nbsp;&nbsp;&nbsp; c) Defining Attributes and Methods for the Child Class <br>\n",
    " &nbsp;&nbsp;&nbsp;&nbsp; d) Method Overriding <br>\n",
    " &nbsp;&nbsp;&nbsp;&nbsp; e) In-Class Exercise #4 - Create a class 'Ford' that inherits from 'Car' class and initialize it as a Blue Ford Explorer with 4 wheels using the super() method <br>\n",
    "7) <b>Classes as Attributes</b> <br>\n",
    "8) <b>Exercises</b> <br>\n",
    " &nbsp;&nbsp;&nbsp;&nbsp; a) Exercise #1 - Turn the shopping cart program from yesterday into an object-oriented program <br>"
   ]
  },
  {
   "cell_type": "code",
   "execution_count": null,
   "metadata": {},
   "outputs": [],
   "source": [
    "# Shopping Cart Example\n",
    "\n",
    "from IPython.display import clear_output\n"
   ]
  },
  {
   "cell_type": "code",
   "execution_count": null,
   "metadata": {},
   "outputs": [],
   "source": [
    "# Circumfrance of a cirle\n"
   ]
  },
  {
   "cell_type": "markdown",
   "metadata": {},
   "source": [
    "## Creating a Class (Initializing/Declaring)\n",
    "<p>When creating a class, function, or even a variable you are initializing that object. Initializing and Declaring occur at the same time in Python, whereas in lower level languages you have to declare an object before initializing it. This is the first step in the process of using a class.</p>"
   ]
  },
  {
   "cell_type": "code",
   "execution_count": null,
   "metadata": {},
   "outputs": [],
   "source": [
    "class Car ():\n",
    "    wheels = 4\n",
    "    color = \"Blue\"\n",
    "    "
   ]
  },
  {
   "cell_type": "markdown",
   "metadata": {},
   "source": [
    "## Using a Class (Instantiating)\n",
    "<p>The process of creating a class is called <i>Instantiating</i>. Each time you create a variable of that type of class, it is referred to as an <i>Instance</i> of that class. This is the second step in the process of using a class.</p>"
   ]
  },
  {
   "cell_type": "markdown",
   "metadata": {},
   "source": [
    "##### Creating One Instance"
   ]
  },
  {
   "cell_type": "code",
   "execution_count": null,
   "metadata": {},
   "outputs": [],
   "source": [
    "ford = Car()"
   ]
  },
  {
   "cell_type": "markdown",
   "metadata": {},
   "source": [
    "##### Creating Multiple Instances"
   ]
  },
  {
   "cell_type": "code",
   "execution_count": null,
   "metadata": {},
   "outputs": [],
   "source": [
    "chevy = Car()\n",
    "honda = Car()\n",
    "porsche = Car()\n",
    "\n",
    "porsche.color"
   ]
  },
  {
   "cell_type": "markdown",
   "metadata": {},
   "source": [
    "##### In-Class Exercise #1 - Create a Class 'Car' and Instantiate three different makes of cars"
   ]
  },
  {
   "cell_type": "code",
   "execution_count": null,
   "metadata": {},
   "outputs": [],
   "source": [
    "# Add doors, a new color, wheels, and a sunRoof\n",
    "class Car ():\n",
    "    doors = 4\n",
    "    color = \"Red\"\n",
    "    wheels = 4\n",
    "    sunroof = \"Comes with a Sunroof\"\n",
    "\n",
    "acura = Car()\n",
    "toyota = Car()\n",
    "bmw = Car()\n",
    "\n",
    "bmw.color\n"
   ]
  },
  {
   "cell_type": "markdown",
   "metadata": {},
   "source": [
    "## The \\__init\\__() Method <br>\n",
    "<p>This method is used in almost every created class, and called only once upon the creation of the class instance. This method will initialize all variables needed for the object.</p>"
   ]
  },
  {
   "cell_type": "code",
   "execution_count": null,
   "metadata": {},
   "outputs": [],
   "source": [
    "class Toy (): \n",
    "    kind = \"Car\"\n",
    "    \n",
    "    def __init__(self, rooftop, horn, wheels):\n",
    "        self.horn = rooftop\n",
    "        self.horn =  horn\n",
    "        self.wheels = wheels\n",
    "        \n",
    "hotwheels_car = Toy(1,1,4)#initializing attributes\n",
    "tanka_truck = Toy(0,1,2) #Defective toy\n",
    "\n",
    "print(hotwheels_car.wheels)#accessing class attributes\n",
    "print(tanka_truck.wheels)"
   ]
  },
  {
   "cell_type": "markdown",
   "metadata": {},
   "source": [
    "##### The 'self' Attribute <br>\n",
    "<p>This attribute is required to keep track of specific instance's attributes. Without the self attribute, the program would not know how to reference or keep track of an instance's attributes.</p>"
   ]
  },
  {
   "cell_type": "code",
   "execution_count": null,
   "metadata": {},
   "outputs": [],
   "source": [
    "# see above"
   ]
  },
  {
   "cell_type": "markdown",
   "metadata": {},
   "source": [
    "## Class Attributes <br>\n",
    "<p>While variables are inside of a class, they are referred to as attributes and not variables. When someone says 'attribute' you know they're speaking about a class. Attributes can be initialized through the init method, or outside of it.</p>"
   ]
  },
  {
   "cell_type": "markdown",
   "metadata": {},
   "source": [
    "##### Initializing Attributes"
   ]
  },
  {
   "cell_type": "code",
   "execution_count": null,
   "metadata": {},
   "outputs": [],
   "source": [
    "# see above"
   ]
  },
  {
   "cell_type": "markdown",
   "metadata": {},
   "source": [
    "##### Accessing Class Attributes"
   ]
  },
  {
   "cell_type": "code",
   "execution_count": null,
   "metadata": {
    "scrolled": true
   },
   "outputs": [],
   "source": [
    "# See Above"
   ]
  },
  {
   "cell_type": "markdown",
   "metadata": {},
   "source": [
    "##### Setting Defaults for Attributes"
   ]
  },
  {
   "cell_type": "code",
   "execution_count": null,
   "metadata": {},
   "outputs": [],
   "source": [
    "class Human():\n",
    "    \n",
    "    def __init__(self, walking, height, weight, talk=True, eyes=\"brown\"):\n",
    "        self.walking = walking\n",
    "        self.height = height\n",
    "        self.weight = weight\n",
    "        self.talk = talk\n",
    "        self.eyes = eyes\n",
    "            \n",
    "joel = Human(True, \"6ft 1in\", \"200lbs\")\n",
    "print(joel.talk)"
   ]
  },
  {
   "cell_type": "markdown",
   "metadata": {},
   "source": [
    "##### Changing Class Attributes <br>\n",
    "<p>Keep in mind there are global class attributes and then there are attributes only available to each class instance which won't effect other classes.</p>"
   ]
  },
  {
   "cell_type": "code",
   "execution_count": null,
   "metadata": {},
   "outputs": [],
   "source": [
    "tanka_truck.kind = \"Truck\"\n",
    "print(tanka_truck.kind)"
   ]
  },
  {
   "cell_type": "code",
   "execution_count": null,
   "metadata": {},
   "outputs": [],
   "source": [
    "joel.weight = \"180lbs\"\n",
    "print(joel.weight)"
   ]
  },
  {
   "cell_type": "markdown",
   "metadata": {},
   "source": [
    "##### In-Class Exercise #2 - Add a doors and seats attribute to your 'Car' class then print out two different instances with different doors and seats"
   ]
  },
  {
   "cell_type": "code",
   "execution_count": null,
   "metadata": {},
   "outputs": [],
   "source": [
    "class Car():\n",
    "    kind = \"Car\"\n",
    "    \n",
    "    def __init__(self, doors, seats):\n",
    "        self.doors = doors\n",
    "        self.seats = seats\n",
    "\n",
    "honda=Car(4, 5)\n",
    "acura=Car(2,3)\n",
    "\n",
    "print(honda.seats)\n",
    "print(acura.doors)"
   ]
  },
  {
   "cell_type": "markdown",
   "metadata": {},
   "source": [
    "## Class Methods <br>\n",
    "<p>While inside of a class, functions are referred to as 'methods'. If you hear someone mention methods, they're speaking about classes. Methods are essentially functions, but only callable on the instances of a class.</p>"
   ]
  },
  {
   "cell_type": "markdown",
   "metadata": {},
   "source": [
    "##### Creating"
   ]
  },
  {
   "cell_type": "code",
   "execution_count": null,
   "metadata": {},
   "outputs": [],
   "source": [
    "class ShoppingBag():\n",
    "    def __init__(self,handles,capacity,items):\n",
    "        self.handles = handles\n",
    "        self.capacity = capacity\n",
    "        self.items = items\n",
    "        \n",
    "        \"\"\"\n",
    "            ShoppingBag will require 3 positional arguments\n",
    "            handles which is expected to be an integer\n",
    "            capacity which is expected to be an integer\n",
    "            items which is expected to be a list - list can be empty\n",
    "        \"\"\"\n",
    "        \n",
    "    #Method to show ShoppingBag\n",
    "    def showShoppingBag(self):\n",
    "        print(\"You have items in your Bag!\")\n",
    "        for items in self.items:\n",
    "            print(items)\n",
    "\n",
    "    #Method to show the Capacity of the bag\n",
    "    def showCapacity(self):\n",
    "        print(f\"Your capacity is {self.capacity}\")\n",
    "\n",
    "    # Method to add to the ShoppingBag\n",
    "    def addToShoppingBag(self):\n",
    "        product = input(\"What would you like to add?\")\n",
    "        self.items.append(product)\n",
    "    # Method to change current capacity\n",
    "    def changeBagCapacity(self, capacity):\n",
    "        \"\"\"\n",
    "            changeBagCapacity assumes capacity will be an integer\n",
    "        \"\"\"\n",
    "        self.capacity = capacity\n",
    "\n",
    "    # Method to Auto increase capacity\n",
    "    def autoIncreaseCapacity(self):\n",
    "        if self.capacity == isinstance(self.capacity,str):\n",
    "            print(\"Hey can't do that here buddy\")\n",
    "        else:\n",
    "            self.capacity += 10\n",
    "                \n",
    "#import math with math.inf    \n",
    "def run():\n",
    "    whole_food_bag = ShoppingBag(2,10,[])\n",
    "    while True:\n",
    "        response = input(\"What do you want to do - Add/Show or quit?\")\n",
    "        if response.lower() == 'add':\n",
    "            whole_food_bag.addToShoppingBag()\n",
    "        if response.lower() == 'show':\n",
    "            whole_food_bag.showShoppingBag()\n",
    "        if response.lower() == 'quit':\n",
    "            print(\"Where is your bag...\")\n",
    "            whole_food_bag.showShoppingBag()\n",
    "            break\n",
    "            \n",
    "        \n",
    "run()  "
   ]
  },
  {
   "cell_type": "markdown",
   "metadata": {},
   "source": [
    "##### Calling"
   ]
  },
  {
   "cell_type": "code",
   "execution_count": null,
   "metadata": {},
   "outputs": [],
   "source": [
    "# See Above"
   ]
  },
  {
   "cell_type": "markdown",
   "metadata": {},
   "source": [
    "##### Modifying an Attribute's Value Through a Method"
   ]
  },
  {
   "cell_type": "code",
   "execution_count": null,
   "metadata": {},
   "outputs": [],
   "source": [
    "whole_food_bag.showCapacity()\n",
    "print(\"Capacity AFTER the change...\")\n",
    "Whole_food_bag.changeBagCapacity(20)\n",
    "whole_food_bag.showCapacity()"
   ]
  },
  {
   "cell_type": "markdown",
   "metadata": {},
   "source": [
    "##### Incrementing an Attribute's Value Through a Method"
   ]
  },
  {
   "cell_type": "code",
   "execution_count": null,
   "metadata": {},
   "outputs": [],
   "source": [
    "whole_food_bag.showCapacity()\n",
    "print(\"Capacity AFTER increase...\")\n",
    "whole_food_bag.autoIncreaseCapacity()\n",
    "whole_food_bag.showCapacity()"
   ]
  },
  {
   "cell_type": "markdown",
   "metadata": {},
   "source": [
    "##### In-Class Exercise #3 - Add a method that takes in three parameters of year, doors and seats and prints out a formatted print statement with make, model, year, seats, and doors"
   ]
  },
  {
   "cell_type": "code",
   "execution_count": null,
   "metadata": {},
   "outputs": [],
   "source": [
    "# Create class with 2 parameters inside of the init method which are make and model\n",
    "\n",
    "# Inside of Car class create a method that has 4 parameters in total(self,year,door,seats)\n",
    "\n",
    "# Output : This car is from 2019 and is a ford explorer and has 4 doors and 5 seats\n",
    "\n",
    "class Car():\n",
    "    make = 'Tesla'\n",
    "    model = \"model X\"\n",
    "    \n",
    "    def __init__(self, year,door,seats):\n",
    "        self.year = year\n",
    "        self.door = door\n",
    "        self.seats = seats\n",
    "        \n",
    "    def type1():\n",
    "        type1 = Car(2020,2,2)\n",
    "        print(\"This car is from\" , type1.year ,\" and is a\" , type1.make , type1.model , \"and has\" , type1.door , type1.seats)\n",
    "\n",
    "type1()\n",
    "\n",
    "\n"
   ]
  },
  {
   "cell_type": "code",
   "execution_count": null,
   "metadata": {},
   "outputs": [],
   "source": []
  },
  {
   "cell_type": "markdown",
   "metadata": {},
   "source": [
    "## Inheritance <br>\n",
    "<p>You can create a child-parent relationship between two classes by using inheritance. What this allows you to do is have overriding methods, but also inherit traits from the parent class. Think of it as an actual parent and child, the child will inherit the parent's genes, as will the classes in OOP</p>"
   ]
  },
  {
   "cell_type": "markdown",
   "metadata": {},
   "source": [
    "##### Syntax for Inheriting from a Parent Class"
   ]
  },
  {
   "cell_type": "code",
   "execution_count": null,
   "metadata": {},
   "outputs": [],
   "source": [
    "class  Animal():\n",
    "    acceleration = 9.8\n",
    "    \n",
    "    def __init__(self,name,species,legs=4):\n",
    "        self.name = name\n",
    "        self.species = species\n",
    "        self.legs = legs\n",
    "        \n",
    "    def makeSound(self):\n",
    "        print(\"Some Generic Sound\")\n",
    "class Dog(Animal):\n",
    "    speed:15\n",
    "    \n",
    "    def __init__(self,name,species,color,legs=4):\n",
    "            Animal.__init__(self,name,species,legs)\n",
    "            self.color = color\n",
    "    def printInfo(self):\n",
    "        print(f\"This Dog is {self.color} and their name is {self.name}\")\n",
    "        \n",
    "    def makeSound(self): # Method override \n",
    "        print(\"Bark\") \n",
    "\n",
    "lassie = Dog(\"Lassie\", \"Canine\", \"Blonde/White\")\n",
    "\n",
    "print(lassie.acceleration)\n",
    "print(lassie.name)"
   ]
  },
  {
   "cell_type": "markdown",
   "metadata": {},
   "source": [
    "##### The \\__init\\__() Method for a Child Class - super()"
   ]
  },
  {
   "cell_type": "code",
   "execution_count": null,
   "metadata": {
    "scrolled": true
   },
   "outputs": [],
   "source": [
    "class  Animal():\n",
    "    acceleration = 9.8\n",
    "    \n",
    "    def __init__(self,name,species,legs=4):\n",
    "        self.name = name\n",
    "        self.species = species\n",
    "        self.legs = legs\n",
    "        \n",
    "    def makeSound(self):\n",
    "        print(\"Some Generic Sound\")\n",
    "class Dog(Animal):\n",
    "    speed:15\n",
    "    \n",
    "    def __init__(self,name,species,color,legs=4):\n",
    "        super().__init__(name,species,legs)\n",
    "        self.color = color\n",
    "    def printInfo(self):\n",
    "        print(f\"This Dog is {self.color} and their name is {self.name}\")\n",
    "        \n",
    "    def makeSound(self): # Method override \n",
    "        print(\"Bark\") \n",
    "\n",
    "lassie = Dog(\"Lassie\", \"Canine\", \"Blonde/White\")\n",
    "\n",
    "print(lassie.acceleration)\n",
    "print(lassie.name)"
   ]
  },
  {
   "cell_type": "markdown",
   "metadata": {},
   "source": [
    "##### Defining Attributes and Methods for the Child Class"
   ]
  },
  {
   "cell_type": "code",
   "execution_count": null,
   "metadata": {},
   "outputs": [],
   "source": [
    "# See Above"
   ]
  },
  {
   "cell_type": "markdown",
   "metadata": {},
   "source": [
    "##### Method Overriding"
   ]
  },
  {
   "cell_type": "code",
   "execution_count": null,
   "metadata": {},
   "outputs": [],
   "source": [
    "# See Above"
   ]
  },
  {
   "cell_type": "markdown",
   "metadata": {},
   "source": [
    "##### In-Class Exercise #4 - Create a class 'Ford' that inherits from 'Car' class and initialize it as a Blue Ford Explorer with 4 wheels using the super() method, add a method to car which prints 'this is a car' and create an overriding method in class Ford that prints the information on the car"
   ]
  },
  {
   "cell_type": "code",
   "execution_count": null,
   "metadata": {},
   "outputs": [],
   "source": [
    "# DO FOR HOMEWORK!!\n",
    "\n",
    "# Create parent class called Car - That will be inherited by child Class called Ford.\n",
    "# Add a method to the Car class that prints \"This is a car\"\n",
    "# Inside of child class initialize the inherited info using super()\n",
    "# Override the above method with the information of the Ford Car\n",
    "\n",
    "# Parent Class\n",
    "class Car():\n",
    "    \n",
    "    # Method to assign 4 positional arguements (color,seats,make,model) to parent class\n",
    "    def __init__(self,color,seats,make,model):\n",
    "        self.color = color\n",
    "        self.seats = seats\n",
    "        self.make = make\n",
    "        self.model = model\n",
    "    \n",
    "    #M Method to print \"This is a car\"\n",
    "    def printInfo(self):\n",
    "        print(\"This is a car\")\n",
    "\n",
    "# Child Class\n",
    "class Ford(Car):\n",
    "    \n",
    "    # Method to assign 6 positional arguements; 4 from the parent class and 2 from child class\n",
    "    def __init__(self,color,seats,make,model,leather, selfdrive):\n",
    "        super().__init__(color,seats,make,model)\n",
    "        self.leather = leather\n",
    "        self.selfdrive = selfdrive\n",
    "    \n",
    "    # Method to print information about the Ford car and override the printInfo method above\n",
    "    def printInfo(self):\n",
    "        print(f\"Your\", self.make , self.model, \"has many cool attributes! it has:\", self.leather, \", a\", self.selfdrive , \", is\", self.color, \"and has\", self.seats, \"seats.\" )\n",
    "\n",
    "# Class code Ends and call functions begin  \n",
    "newCar = Ford(\"red\", 4,\"Ford\", \"Explorer\",\"Leather interior\", \"Self-drive function\")\n",
    "\n",
    "newCar.printInfo()\n",
    "              \n",
    "              \n",
    "              \n",
    "              \n",
    "              \n",
    "              \n",
    "              \n",
    "              \n",
    "              \n",
    "              \n",
    "              \n",
    "              \n",
    "              \n",
    "              \n",
    "              "
   ]
  },
  {
   "cell_type": "markdown",
   "metadata": {},
   "source": [
    "## Classes as Attributes <br>\n",
    "<p>Classes can also be used as attributes within another class. This is useful in situations where you need to keep variables locally stored, instead of globally stored.</p>"
   ]
  },
  {
   "cell_type": "code",
   "execution_count": null,
   "metadata": {},
   "outputs": [],
   "source": [
    "class Battery():\n",
    "    volts = 7.8\n",
    "    \n",
    "    def __init__(self,cells):\n",
    "        self.cells = cells\n",
    "class Car():\n",
    "    def __init__(self,year,make,model,battery):\n",
    "        self.year = year\n",
    "        self.make = make\n",
    "        self.model = model\n",
    "        self.battery = battery\n",
    "    \n",
    "    def printInfo(self):\n",
    "        print(self.year, self.make, self.battery)\n",
    "batt = Battery(20)\n",
    "\n",
    "tesla = Car(2020, \"Tesla\", \"Model x\", batt)\n",
    "\n",
    "tesla.printInfo()\n",
    "print(tesla.battery.volts)"
   ]
  },
  {
   "cell_type": "markdown",
   "metadata": {},
   "source": [
    "# Exercises"
   ]
  },
  {
   "cell_type": "markdown",
   "metadata": {},
   "source": [
    "### Exercise 1 - Turn the shopping cart program from yesterday into an object-oriented program\n",
    "\n",
    "The comments in the cell below are there as a guide for thinking about the problem. However, if you feel a different way is best for you and your own thought process, please do what feels best for you by all means."
   ]
  },
  {
   "cell_type": "code",
   "execution_count": 1,
   "metadata": {},
   "outputs": [
    {
     "name": "stdout",
     "output_type": "stream",
     "text": [
      "Would you like to add / remove / show / quit shopping cart?remove\n",
      "Please enter which item you would like to removenecklace\n"
     ]
    },
    {
     "ename": "TypeError",
     "evalue": "removeItem() missing 1 required positional argument: 'items'",
     "output_type": "error",
     "traceback": [
      "\u001b[1;31m---------------------------------------------------------------------------\u001b[0m",
      "\u001b[1;31mTypeError\u001b[0m                                 Traceback (most recent call last)",
      "\u001b[1;32m<ipython-input-1-d781272aa9f6>\u001b[0m in \u001b[0;36m<module>\u001b[1;34m\u001b[0m\n\u001b[0;32m     69\u001b[0m             \u001b[1;32mbreak\u001b[0m\u001b[1;33m\u001b[0m\u001b[1;33m\u001b[0m\u001b[0m\n\u001b[0;32m     70\u001b[0m \u001b[1;33m\u001b[0m\u001b[0m\n\u001b[1;32m---> 71\u001b[1;33m \u001b[0mrun\u001b[0m\u001b[1;33m(\u001b[0m\u001b[1;33m)\u001b[0m\u001b[1;33m\u001b[0m\u001b[1;33m\u001b[0m\u001b[0m\n\u001b[0m",
      "\u001b[1;32m<ipython-input-1-d781272aa9f6>\u001b[0m in \u001b[0;36mrun\u001b[1;34m()\u001b[0m\n\u001b[0;32m     59\u001b[0m         \u001b[1;32mif\u001b[0m \u001b[0mresponse\u001b[0m\u001b[1;33m.\u001b[0m\u001b[0mlower\u001b[0m\u001b[1;33m(\u001b[0m\u001b[1;33m)\u001b[0m \u001b[1;33m==\u001b[0m \u001b[1;34m'remove'\u001b[0m\u001b[1;33m:\u001b[0m\u001b[1;33m\u001b[0m\u001b[1;33m\u001b[0m\u001b[0m\n\u001b[0;32m     60\u001b[0m             \u001b[0mremove_response\u001b[0m \u001b[1;33m=\u001b[0m \u001b[0minput\u001b[0m\u001b[1;33m(\u001b[0m\u001b[1;34m\"Please enter which item you would like to remove\"\u001b[0m\u001b[1;33m)\u001b[0m\u001b[1;33m\u001b[0m\u001b[1;33m\u001b[0m\u001b[0m\n\u001b[1;32m---> 61\u001b[1;33m             \u001b[0mwhole_cart\u001b[0m\u001b[1;33m.\u001b[0m\u001b[0mremoveItem\u001b[0m\u001b[1;33m(\u001b[0m\u001b[1;33m)\u001b[0m\u001b[1;33m\u001b[0m\u001b[1;33m\u001b[0m\u001b[0m\n\u001b[0m\u001b[0;32m     62\u001b[0m             \u001b[0mprint\u001b[0m\u001b[1;33m(\u001b[0m\u001b[1;34m\"Your item has been removed from your cart.\"\u001b[0m\u001b[1;33m)\u001b[0m\u001b[1;33m\u001b[0m\u001b[1;33m\u001b[0m\u001b[0m\n\u001b[0;32m     63\u001b[0m             \u001b[0mprint\u001b[0m\u001b[1;33m(\u001b[0m\u001b[1;34m\"Here is the updated version of your cart:\"\u001b[0m\u001b[1;33m)\u001b[0m\u001b[1;33m\u001b[0m\u001b[1;33m\u001b[0m\u001b[0m\n",
      "\u001b[1;31mTypeError\u001b[0m: removeItem() missing 1 required positional argument: 'items'"
     ]
    }
   ],
   "source": [
    "class Cart():\n",
    "    def __init__(self,shopping_cart):\n",
    "        '''\n",
    "            provides argument for the class Cart which is a dictionary\n",
    "        '''\n",
    "        self.shopping_cart = {}\n",
    "        # Pretty sure the problem is that i have to add items into my positional argument above this line but\n",
    "        # I am not quite sure how to implement that and dont know where to begin.\n",
    "        \n",
    "    # Method to check if the Cart is empty or not\n",
    "    def showCart(self): # remember to re-do this. what is wrong with this?\n",
    "        '''\n",
    "        This funtion shows if the cart is empty. If the cart is not empty then it will print out the \n",
    "        whole dictionary under shopping cart.\n",
    "        \n",
    "        '''\n",
    "        if not self.shopping_cart:#came across this code when reading about boolean\n",
    "            print(\"Your cart is empty\")\n",
    "            return None\n",
    "        else:\n",
    "            return self.shopping_cart\n",
    "    \n",
    "    # Method to add an item to the Cart\n",
    "    def addItem(self, items, quantity = 1):\n",
    "        '''\n",
    "        This function adds items into the shopping cart.  It also adds quantity to the item in the\n",
    "        cart\n",
    "        \n",
    "        '''\n",
    "        if items not in self.shopping_cart.keys():\n",
    "            self.shopping_cart[items] = quantity\n",
    "            # No need to add self. for quantity (it is not under the init)\n",
    "        else:\n",
    "            self.shopping_cart[items] = quantity + self.shopping_cart[items].get()\n",
    "            # This is to add items \n",
    "            \n",
    "    \n",
    "    # Method to remove an item\n",
    "    def removeItem(self, items, quantity = 1):\n",
    "        '''\n",
    "        This function removes an item in the shopping cart as well as the quantity associated with\n",
    "        the item removed.\n",
    "        '''\n",
    "        if items in self.shopping_cart.keys():\n",
    "            # this needs to be improve but a start for now\n",
    "            self.shopping_cart[items] = self.shopping_cart[items].get() - quantity\n",
    "        else:\n",
    "            return None # return None because item is not in dictionary or exist\n",
    "\n",
    "\n",
    "        \n",
    "def run():\n",
    "    whole_cart = Cart({})\n",
    "    while True:\n",
    "        response = input(\"Would you like to add / remove / show / quit shopping cart?\")\n",
    "        if response.lower() == 'add':\n",
    "            item_response = input(\"Please enter item name\")\n",
    "            quantity_response = input(\"Enter item quantity\")\n",
    "            whole_cart.addItem.items() \n",
    "            whole_cart.addItem.items()\n",
    "        if response.lower() == 'remove':\n",
    "            remove_response = input(\"Please enter which item you would like to remove\")\n",
    "            whole_cart.removeItem()\n",
    "            print(\"Your item has been removed from your cart.\")\n",
    "            print(\"Here is the updated version of your cart:\")\n",
    "            whole_cart.showCart()\n",
    "        if response.lower() == 'show':\n",
    "            whole_cart.showCart()\n",
    "        if response.lower() == 'quit':\n",
    "            repsponse_quit = input(\"Thank you for stopping by! You will now go to the checkout.\")\n",
    "            break\n",
    "\n",
    "run()\n"
   ]
  },
  {
   "cell_type": "code",
   "execution_count": null,
   "metadata": {},
   "outputs": [],
   "source": []
  }
 ],
 "metadata": {
  "kernelspec": {
   "display_name": "Python 3",
   "language": "python",
   "name": "python3"
  },
  "language_info": {
   "codemirror_mode": {
    "name": "ipython",
    "version": 3
   },
   "file_extension": ".py",
   "mimetype": "text/x-python",
   "name": "python",
   "nbconvert_exporter": "python",
   "pygments_lexer": "ipython3",
   "version": "3.8.2"
  }
 },
 "nbformat": 4,
 "nbformat_minor": 2
}
